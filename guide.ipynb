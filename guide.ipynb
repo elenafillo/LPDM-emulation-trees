{
 "cells": [
  {
   "cell_type": "code",
   "execution_count": 1,
   "metadata": {},
   "outputs": [],
   "source": [
    "from src.load_data import LoadData\n",
    "import numpy as np"
   ]
  },
  {
   "cell_type": "code",
   "execution_count": 2,
   "metadata": {},
   "outputs": [
    {
     "name": "stdout",
     "output_type": "stream",
     "text": [
      "Loading Meteorology data from data/met/EUROPE*10magl*2016*.nc\n",
      "Loading footprint data from data/fps/MHD-10magl*2016*.nc\n",
      "Cutting data to size\n",
      "Loading extra meteorology from data/met/EUROPE*verticalgradients*2016*.nc and extracting gradients\n",
      "Extracting wind vectors\n",
      "All data loaded\n"
     ]
    }
   ],
   "source": [
    "data = LoadData(2016, site=\"MHD\", verbose=True)"
   ]
  }
 ],
 "metadata": {
  "kernelspec": {
   "display_name": "Python 3.8.13 ('trees': conda)",
   "language": "python",
   "name": "python3"
  },
  "language_info": {
   "codemirror_mode": {
    "name": "ipython",
    "version": 3
   },
   "file_extension": ".py",
   "mimetype": "text/x-python",
   "name": "python",
   "nbconvert_exporter": "python",
   "pygments_lexer": "ipython3",
   "version": "3.8.13"
  },
  "orig_nbformat": 4,
  "vscode": {
   "interpreter": {
    "hash": "0887cb6430c7060d46e4586004cb983d933a144c6b33a26f5430dc5b365456bc"
   }
  }
 },
 "nbformat": 4,
 "nbformat_minor": 2
}
