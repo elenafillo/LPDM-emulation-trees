{
 "cells": [
  {
   "cell_type": "code",
   "execution_count": 1,
   "metadata": {},
   "outputs": [],
   "source": [
    "from trees_emulator.load_data import *\n",
    "import numpy as np\n",
    "import pickle"
   ]
  },
  {
   "cell_type": "code",
   "execution_count": 2,
   "metadata": {},
   "outputs": [
    {
     "name": "stdout",
     "output_type": "stream",
     "text": [
      "Loading Meteorology data from data/met/EUROPE*10magl*2016*.nc\n",
      "Loading footprint data from data/fps/MHD-10magl*2016*.nc\n",
      "Cutting data to size\n",
      "Loading extra meteorology from data/met/EUROPE*verticalgradients*2016*.nc and extracting gradients\n",
      "Extracting wind vectors\n",
      "All data loaded\n"
     ]
    }
   ],
   "source": [
    "# Load Data\n",
    "data = LoadData(2016, site=\"MHD\", verbose=True)"
   ]
  },
  {
   "cell_type": "code",
   "execution_count": 4,
   "metadata": {},
   "outputs": [
    {
     "name": "stdout",
     "output_type": "stream",
     "text": [
      "info: {'site': 'MHD', 'training data': '201[4-5]', 'sampling frequency': 2, 'size': 10}\n",
      "first regressor: GradientBoostingRegressor(loss='absolute_error', max_depth=50,\n",
      "                          max_features='sqrt', n_estimators=150)\n"
     ]
    }
   ],
   "source": [
    "# Load trained model. Info is a dict with general info about the training, clfs is a list of length size**2 with all regressors\n",
    "with open('trained_models/MHD.txt', 'rb') as f:\n",
    "    [info, clfs] = pickle.load(f)\n",
    "print(\"info:\", info)\n",
    "print(\"first regressor:\", clfs[0])"
   ]
  },
  {
   "cell_type": "code",
   "execution_count": 4,
   "metadata": {},
   "outputs": [],
   "source": [
    "# Get the inputs set up\n",
    "## variables that are passed at the time of the footprint and x hours before\n",
    "vars_with_past = [data.y_wind, data.x_wind, data.met.PBLH.values]\n",
    "hours_before = 6\n",
    "## variables that are only passed at the time of the footprint\n",
    "vars_without_past = [data.temp_grad, data.x_wind_grad, data.y_wind_grad]\n",
    "\n",
    "inputs = get_all_inputs(vars_with_past, 6, vars_without_past)"
   ]
  }
 ],
 "metadata": {
  "kernelspec": {
   "display_name": "Python 3.8.13 ('trees': conda)",
   "language": "python",
   "name": "python3"
  },
  "language_info": {
   "codemirror_mode": {
    "name": "ipython",
    "version": 3
   },
   "file_extension": ".py",
   "mimetype": "text/x-python",
   "name": "python",
   "nbconvert_exporter": "python",
   "pygments_lexer": "ipython3",
   "version": "3.8.13"
  },
  "orig_nbformat": 4,
  "vscode": {
   "interpreter": {
    "hash": "0887cb6430c7060d46e4586004cb983d933a144c6b33a26f5430dc5b365456bc"
   }
  }
 },
 "nbformat": 4,
 "nbformat_minor": 2
}
